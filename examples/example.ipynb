{
 "cells": [
  {
   "cell_type": "markdown",
   "id": "1a67f569-6249-470a-8236-a5c0262955ba",
   "metadata": {},
   "source": [
    "# Example usage of the code in this repo"
   ]
  },
  {
   "cell_type": "markdown",
   "id": "316101dc-6799-42e1-b851-bcc4f7cbe17e",
   "metadata": {},
   "source": [
    "## Requirements\n",
    "\n",
    "### Poetry\n",
    "\n",
    "You need to have python and install poetry. (Sorry, to lazy to build a package and publish it atm)\n",
    "\n",
    "Then simply create a `venv` via `poetry shell` and install the project via `poetry install`. If installation fails try to fall\n",
    "back to the older installer via `poetry config installer.modern-installation false`.\n",
    "\n",
    "### API Key\n",
    "\n",
    "You need a riot API key. You can get one by simply registering your riot account [here](https://developer.riotgames.com/]).\n",
    "\n",
    "### Notebook\n",
    "\n",
    "When the package is installed you can run this notebook by starting a jupyter server via `jupyter lab`.\n",
    "\n",
    "## Notes\n",
    "\n",
    "For now the check if some one is a smurf is quite simple and highly error prone. (`if summoner level <= 60`)\n"
   ]
  },
  {
   "cell_type": "code",
   "execution_count": null,
   "id": "e3ac8c75-25b8-4d62-adb6-6bfbde6238c4",
   "metadata": {
    "tags": []
   },
   "outputs": [],
   "source": [
    "import pathlib\n",
    "\n",
    "import matplotlib.pyplot as plt\n",
    "import riotwatcher\n",
    "\n",
    "from lol_stats import analysis, data, download"
   ]
  },
  {
   "cell_type": "code",
   "execution_count": null,
   "id": "64fc3b3e-a349-4e9f-a7cb-a6fa325779f4",
   "metadata": {
    "tags": []
   },
   "outputs": [],
   "source": [
    "summoner_name = input(\"What is your ingame name?\")"
   ]
  },
  {
   "cell_type": "code",
   "execution_count": null,
   "id": "c16f4d5f-e5aa-4304-adac-77e71ac9bab2",
   "metadata": {
    "tags": []
   },
   "outputs": [],
   "source": [
    "my_region = download.Region.EUW"
   ]
  },
  {
   "cell_type": "code",
   "execution_count": null,
   "id": "d6202b40-84f0-40cb-bfc9-030395b7cba8",
   "metadata": {
    "tags": []
   },
   "outputs": [],
   "source": [
    "api_key = input(\"What is your API key?\")\n",
    "watcher = riotwatcher.LolWatcher(api_key)"
   ]
  },
  {
   "cell_type": "code",
   "execution_count": null,
   "id": "bc55ac24-cd8b-4f83-8aa6-b055c72d7e2a",
   "metadata": {
    "tags": []
   },
   "outputs": [],
   "source": [
    "me = download.get_summoner_by_name(summoner_name, my_region, watcher)"
   ]
  },
  {
   "cell_type": "code",
   "execution_count": null,
   "id": "f570571d-9f56-4739-994b-235fb092f3eb",
   "metadata": {
    "tags": []
   },
   "outputs": [],
   "source": [
    "my_games = download.get_games_by_summoner_puuid(me.puuid, my_region, 50, watcher)"
   ]
  },
  {
   "cell_type": "code",
   "execution_count": null,
   "id": "af75df2e-ff22-4997-b98e-854238f7c434",
   "metadata": {
    "tags": []
   },
   "outputs": [],
   "source": [
    "# Optionally save you game data, so you don't need to download it again.\n",
    "my_games.save(pathlib.Path(input(\"Where do you want to save your games?\")))"
   ]
  },
  {
   "cell_type": "code",
   "execution_count": null,
   "id": "c187321e-3d83-4dd8-8d20-30a83eb5713c",
   "metadata": {
    "tags": []
   },
   "outputs": [],
   "source": [
    "# Optionally load your game data, if you saved it somewhere.\n",
    "my_games = data.Games.load(pathlib.Path(input(\"What is the path to you saved game data?\")))"
   ]
  },
  {
   "cell_type": "code",
   "execution_count": null,
   "id": "7acdd0ed-c3a7-4881-b922-c996a422d91c",
   "metadata": {
    "tags": []
   },
   "outputs": [],
   "source": [
    "print(\"Number of games: \", len(my_games.games))\n",
    "print(\"General winrate: \", analysis.get_general_win_rate(my_games))\n",
    "print(\"Winrate against smurfs: \", analysis.get_win_rate_against_smurfs(my_games))\n",
    "print(\"Winrate with smurfs: \", analysis.get_win_rate_with_smurfs(my_games))\n",
    "print(\"Winrate without smurfs in game: \", analysis.get_win_rate_without_smurfs_in_game(my_games))\n",
    "print(\"Portion of games with smurfs in game: \", analysis.portion_games_with_smurfs_in_game(my_games))\n",
    "print(\"Number of games with different smurf counts: \", analysis.count_amount_of_smurf_per_game(my_games))"
   ]
  },
  {
   "cell_type": "code",
   "execution_count": null,
   "id": "69d49078-ba84-48d0-93cc-68b1c3cb670b",
   "metadata": {
    "tags": []
   },
   "outputs": [],
   "source": [
    "%matplotlib inline\n",
    "analysis.plot_kda_distribution(my_games.all_summoners)"
   ]
  },
  {
   "cell_type": "code",
   "execution_count": null,
   "id": "404a7a24-90f7-4d24-bedf-401019567ea6",
   "metadata": {},
   "outputs": [],
   "source": []
  }
 ],
 "metadata": {
  "kernelspec": {
   "display_name": "Python 3 (ipykernel)",
   "language": "python",
   "name": "python3"
  },
  "language_info": {
   "codemirror_mode": {
    "name": "ipython",
    "version": 3
   },
   "file_extension": ".py",
   "mimetype": "text/x-python",
   "name": "python",
   "nbconvert_exporter": "python",
   "pygments_lexer": "ipython3",
   "version": "3.10.1"
  }
 },
 "nbformat": 4,
 "nbformat_minor": 5
}
